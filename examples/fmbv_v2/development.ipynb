{
 "cells": [
  {
   "cell_type": "code",
   "execution_count": 4,
   "metadata": {},
   "outputs": [],
   "source": [
    "from usa.data.load import test"
   ]
  },
  {
   "cell_type": "code",
   "execution_count": 5,
   "metadata": {},
   "outputs": [
    {
     "ename": "FileNotFoundError",
     "evalue": "[Errno 2] No such file or directory: 'usa/data/wl1_12.vol'",
     "output_type": "error",
     "traceback": [
      "\u001b[0;31m---------------------------------------------------------------------------\u001b[0m",
      "\u001b[0;31mFileNotFoundError\u001b[0m                         Traceback (most recent call last)",
      "Cell \u001b[0;32mIn[5], line 1\u001b[0m\n\u001b[0;32m----> 1\u001b[0m us \u001b[38;5;241m=\u001b[39m test()\n",
      "File \u001b[0;32m~/Documents/PIRG/usa/usa/data/load.py:12\u001b[0m, in \u001b[0;36mtest\u001b[0;34m(zoom)\u001b[0m\n\u001b[1;32m      9\u001b[0m KRETZ_PATH \u001b[38;5;241m=\u001b[39m \u001b[38;5;124m\"\u001b[39m\u001b[38;5;124musa/data/wl1_12.vol\u001b[39m\u001b[38;5;124m\"\u001b[39m\n\u001b[1;32m     11\u001b[0m us \u001b[38;5;241m=\u001b[39m GE_US(minimise_memory\u001b[38;5;241m=\u001b[39m\u001b[38;5;28;01mFalse\u001b[39;00m)\n\u001b[0;32m---> 12\u001b[0m us\u001b[38;5;241m.\u001b[39mload_kretz(KRETZ_PATH)\n\u001b[1;32m     13\u001b[0m us\u001b[38;5;241m.\u001b[39mload_pd(PD_PATH)\n\u001b[1;32m     14\u001b[0m us\u001b[38;5;241m.\u001b[39mload_seg(SEG_PATH)\n",
      "File \u001b[0;32m~/Documents/PIRG/usa/usa/analysis/base.py:93\u001b[0m, in \u001b[0;36mGE_US.load_kretz\u001b[0;34m(self, input)\u001b[0m\n\u001b[1;32m     90\u001b[0m \u001b[38;5;28;01mif\u001b[39;00m \u001b[38;5;28misinstance\u001b[39m(\u001b[38;5;28minput\u001b[39m, \u001b[38;5;28mstr\u001b[39m):\n\u001b[1;32m     91\u001b[0m     \u001b[38;5;28mself\u001b[39m\u001b[38;5;241m.\u001b[39mkretz_metadata \u001b[38;5;241m=\u001b[39m GETagAnalyser\u001b[38;5;241m.\u001b[39mGETagAnalyser(\u001b[38;5;28minput\u001b[39m)\n\u001b[0;32m---> 93\u001b[0m     \u001b[38;5;28mself\u001b[39m\u001b[38;5;241m.\u001b[39mbmode_spacing \u001b[38;5;241m=\u001b[39m np\u001b[38;5;241m.\u001b[39mfrombuffer(\u001b[38;5;28mself\u001b[39m\u001b[38;5;241m.\u001b[39mkretz_metadata\u001b[38;5;241m.\u001b[39mgetDataFromTags(\n\u001b[1;32m     94\u001b[0m         \u001b[38;5;28mint\u001b[39m(\u001b[38;5;124m'\u001b[39m\u001b[38;5;124m0xc100\u001b[39m\u001b[38;5;124m'\u001b[39m, \u001b[38;5;241m16\u001b[39m), \u001b[38;5;28mint\u001b[39m(\u001b[38;5;124m'\u001b[39m\u001b[38;5;124m0x201\u001b[39m\u001b[38;5;124m'\u001b[39m, \u001b[38;5;241m16\u001b[39m)), np\u001b[38;5;241m.\u001b[39mfloat64)[\u001b[38;5;241m0\u001b[39m] \u001b[38;5;241m*\u001b[39m \u001b[38;5;241m1000.0\u001b[39m\n\u001b[1;32m     95\u001b[0m     \u001b[38;5;28mself\u001b[39m\u001b[38;5;241m.\u001b[39mvolume_offset \u001b[38;5;241m=\u001b[39m np\u001b[38;5;241m.\u001b[39mfrombuffer(\u001b[38;5;28mself\u001b[39m\u001b[38;5;241m.\u001b[39mkretz_metadata\u001b[38;5;241m.\u001b[39mgetDataFromTags(\n\u001b[1;32m     96\u001b[0m         \u001b[38;5;28mint\u001b[39m(\u001b[38;5;124m'\u001b[39m\u001b[38;5;124m0xc200\u001b[39m\u001b[38;5;124m'\u001b[39m, \u001b[38;5;241m16\u001b[39m), \u001b[38;5;28mint\u001b[39m(\u001b[38;5;124m'\u001b[39m\u001b[38;5;124m0x202\u001b[39m\u001b[38;5;124m'\u001b[39m, \u001b[38;5;241m16\u001b[39m)), np\u001b[38;5;241m.\u001b[39mfloat64)[\u001b[38;5;241m0\u001b[39m]\n\u001b[1;32m     97\u001b[0m     \u001b[38;5;66;03m# other metadata...?\u001b[39;00m\n",
      "File \u001b[0;32m~/Documents/PIRG/usa/usa/analysis/ge/GETagAnalyser.py:41\u001b[0m, in \u001b[0;36mGETagAnalyser.getDataFromTags\u001b[0;34m(self, tag1, tag2)\u001b[0m\n\u001b[1;32m     38\u001b[0m \u001b[38;5;28;01mif\u001b[39;00m \u001b[38;5;28misinstance\u001b[39m(tag1, \u001b[38;5;28mstr\u001b[39m) \u001b[38;5;129;01mor\u001b[39;00m \u001b[38;5;28misinstance\u001b[39m(tag2, \u001b[38;5;28mstr\u001b[39m):\n\u001b[1;32m     39\u001b[0m     \u001b[38;5;28mprint\u001b[39m(\u001b[38;5;124m\"\u001b[39m\u001b[38;5;124mDataType needs to be hex or int!\u001b[39m\u001b[38;5;124m\"\u001b[39m)\n\u001b[0;32m---> 41\u001b[0m \u001b[38;5;28;01mwith\u001b[39;00m \u001b[38;5;28mopen\u001b[39m(\u001b[38;5;28mself\u001b[39m\u001b[38;5;241m.\u001b[39mm_fname, \u001b[38;5;124m'\u001b[39m\u001b[38;5;124mrb\u001b[39m\u001b[38;5;124m'\u001b[39m) \u001b[38;5;28;01mas\u001b[39;00m f:\n\u001b[1;32m     42\u001b[0m     hdr \u001b[38;5;241m=\u001b[39m f\u001b[38;5;241m.\u001b[39mread(\u001b[38;5;241m16\u001b[39m)\n\u001b[1;32m     43\u001b[0m     \u001b[38;5;66;03m# find end\u001b[39;00m\n",
      "\u001b[0;31mFileNotFoundError\u001b[0m: [Errno 2] No such file or directory: 'usa/data/wl1_12.vol'"
     ]
    }
   ],
   "source": [
    "us = test()"
   ]
  }
 ],
 "metadata": {
  "kernelspec": {
   "display_name": "gordon_original",
   "language": "python",
   "name": "python3"
  },
  "language_info": {
   "codemirror_mode": {
    "name": "ipython",
    "version": 3
   },
   "file_extension": ".py",
   "mimetype": "text/x-python",
   "name": "python",
   "nbconvert_exporter": "python",
   "pygments_lexer": "ipython3",
   "version": "3.11.2"
  }
 },
 "nbformat": 4,
 "nbformat_minor": 2
}
